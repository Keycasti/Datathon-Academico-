{
 "cells": [
  {
   "cell_type": "markdown",
   "id": "ddea552a",
   "metadata": {},
   "source": [
    "# 1. Análisis Exploratorio Inicial de Datos Educativos"
   ]
  },
  {
   "cell_type": "markdown",
   "id": "320d0126",
   "metadata": {},
   "source": [
    "Este notebook tiene como objetivo realizar un análisis exploratorio inicial sobre el dataset de estadísticas educativas. Utilizaremos las funciones modularizadas en la carpeta `src/` para la carga, limpieza básica y resumen de los datos."
   ]
  },
  {
   "cell_type": "markdown",
   "id": "0ccbb49e",
   "metadata": {},
   "source": [
    "## 1.1 Configuración del Entorno e Importación de Módulos"
   ]
  },
  {
   "cell_type": "code",
   "execution_count": 1,
   "id": "642ed6c0",
   "metadata": {},
   "outputs": [],
   "source": [
    "import pandas as pd\n",
    "import matplotlib.pyplot as plt\n",
    "import seaborn as sns\n",
    "import numpy as np\n",
    "import sys\n",
    "import os\n",
    "    \n",
    "sys.path.append(os.path.abspath(os.path.join('..', 'src')))\n",
    "sys.path.append(os.path.abspath(os.path.join('..', 'config')))\n",
    "    \n",
    "# Importar funciones y variables\n",
    "from data_loader import load_data, save_processed_data\n",
    "from utils import (\n",
    "    summarize_dataframe,  \n",
    "    analyze_completeness,\n",
    "    count_zeros_by_column,\n",
    "    find_duplicate_columns\n",
    ")\n",
    "from settings import (\n",
    "    RAW_DATA_PATH, \n",
    "    PROCESSED_DATA_PATH, \n",
    "    COLUMNS_TO_CONVERT_TO_NUMERIC, \n",
    "    FIGURES_PATH, \n",
    "    COLUMNS_TO_DELETE,\n",
    "    FILTER_COLUMN,\n",
    "    FILTER_VALUE\n",
    ")\n",
    "# Importamos la función de limpieza \n",
    "from data_cleaner import (\n",
    "    clean_column_names,\n",
    "    delete_columns,\n",
    "    handle_missing_values,\n",
    "    normalize_column_names,\n",
    "    filter_remove_rows\n",
    ")  "
   ]
  },
  {
   "cell_type": "markdown",
   "id": "4e0c4de0",
   "metadata": {},
   "source": [
    "## 1.2 Carga y Preparación Inicial del Dataset"
   ]
  },
  {
   "cell_type": "code",
   "execution_count": 2,
   "id": "54fa25cc",
   "metadata": {},
   "outputs": [
    {
     "name": "stdout",
     "output_type": "stream",
     "text": [
      "Intentando cargar el dataset desde: c:\\Users\\LENOVO\\OneDrive\\Documentos\\python class\\Dathon_Academic_MEN\\data\\raw\\MEN_ESTADISTICAS_EN_EDUCACION.csv\n",
      "Dataset cargado exitosamente. Dimensiones: (14585, 41)\n",
      "\n",
      "DataFrame original cargado y copia de trabajo creada.\n"
     ]
    }
   ],
   "source": [
    "# Cargar el dataset utilizando la función modular de data_loader.py\n",
    "\n",
    "df = load_data(RAW_DATA_PATH)\n",
    "\n",
    "if df is not None:\n",
    "    # Crear una copia \n",
    "    df_work = df.copy()\n",
    "    print(\"\\nDataFrame original cargado y copia de trabajo creada.\")\n",
    "else:\n",
    "    df_work = None\n",
    "    print(\"No se pudo cargar el DataFrame, df_work es None.\")"
   ]
  },
  {
   "cell_type": "markdown",
   "id": "ffb6a090",
   "metadata": {},
   "source": [
    "### 1.2.1 Resumen Inicial del DataFrame"
   ]
  },
  {
   "cell_type": "code",
   "execution_count": 3,
   "id": "4a8dc238",
   "metadata": {},
   "outputs": [
    {
     "name": "stdout",
     "output_type": "stream",
     "text": [
      "El DataFrame tiene 14585 filas y 41 columnas.\n",
      "\n",
      "Primeras filas del DataFrame:\n",
      "    AÑO  CÓDIGO_MUNICIPIO   MUNICIPIO  CÓDIGO_DEPARTAMENTO DEPARTAMENTO  \\\n",
      "0  2023              5001    Medellín                    5    Antioquia   \n",
      "1  2023              5002   Abejorral                    5    Antioquia   \n",
      "2  2023              5004    Abriaquí                    5    Antioquia   \n",
      "3  2023              5021  Alejandría                    5    Antioquia   \n",
      "4  2023              5030       Amagá                    5    Antioquia   \n",
      "\n",
      "   CÓDIGO_ETC              ETC POBLACIÓN_5_16  TASA_MATRICULACIÓN_5_16  \\\n",
      "0      3759.0         Medellín         377562                    96.15   \n",
      "1      3758.0  Antioquia (ETC)           3634                    74.38   \n",
      "2      3758.0  Antioquia (ETC)            503                    62.62   \n",
      "3      3758.0  Antioquia (ETC)            864                    81.37   \n",
      "4      3758.0  Antioquia (ETC)           5060                    78.30   \n",
      "\n",
      "   COBERTURA_NETA  ...  REPROBACIÓN  REPROBACIÓN_TRANSICIÓN  \\\n",
      "0           95.94  ...         9.23                    0.15   \n",
      "1           74.38  ...         7.77                    0.56   \n",
      "2           62.62  ...         6.55                    0.00   \n",
      "3           81.37  ...         7.88                    0.00   \n",
      "4           78.30  ...        10.71                    0.00   \n",
      "\n",
      "   REPROBACIÓN_PRIMARIA  REPROBACIÓN_SECUNDARIA  REPROBACIÓN_MEDIA  \\\n",
      "0                  6.21                   15.40               7.27   \n",
      "1                  7.26                   10.93               4.41   \n",
      "2                  1.96                   16.51               2.04   \n",
      "3                  7.02                   13.65               2.40   \n",
      "4                  9.63                   16.48               5.50   \n",
      "\n",
      "   REPITENCIA  REPITENCIA_TRANSICIÓN  REPITENCIA_PRIMARIA  \\\n",
      "0        9.25                   1.82                 8.34   \n",
      "1        9.07                   1.67                10.28   \n",
      "2        9.52                   0.00                10.46   \n",
      "3        7.20                   1.59                 7.69   \n",
      "4       12.08                   0.29                11.54   \n",
      "\n",
      "   REPITENCIA_SECUNDARIA  REPITENCIA_MEDIA  \n",
      "0                  13.69              4.48  \n",
      "1                  11.32              2.20  \n",
      "2                  13.76              2.04  \n",
      "3                  11.65              0.00  \n",
      "4                  18.48              3.98  \n",
      "\n",
      "[5 rows x 41 columns] \n",
      "\n",
      "Información general del DataFrame:\n",
      "<class 'pandas.core.frame.DataFrame'>\n",
      "RangeIndex: 14585 entries, 0 to 14584\n",
      "Data columns (total 41 columns):\n",
      " #   Column                       Non-Null Count  Dtype  \n",
      "---  ------                       --------------  -----  \n",
      " 0   AÑO                          14585 non-null  int64  \n",
      " 1   CÓDIGO_MUNICIPIO             14585 non-null  int64  \n",
      " 2   MUNICIPIO                    14585 non-null  object \n",
      " 3   CÓDIGO_DEPARTAMENTO          14585 non-null  int64  \n",
      " 4   DEPARTAMENTO                 14585 non-null  object \n",
      " 5   CÓDIGO_ETC                   14585 non-null  float64\n",
      " 6   ETC                          14585 non-null  object \n",
      " 7   POBLACIÓN_5_16               14579 non-null  object \n",
      " 8   TASA_MATRICULACIÓN_5_16      14470 non-null  float64\n",
      " 9   COBERTURA_NETA               14474 non-null  float64\n",
      " 10  COBERTURA_NETA_TRANSICIÓN    14533 non-null  float64\n",
      " 11  COBERTURA_NETA_PRIMARIA      14494 non-null  float64\n",
      " 12  COBERTURA_NETA_SECUNDARIA    14491 non-null  float64\n",
      " 13  COBERTURA_NETA_MEDIA         14492 non-null  float64\n",
      " 14  COBERTURA_BRUTA              14517 non-null  float64\n",
      " 15  COBERTURA_BRUTA_TRANSICIÓN   14488 non-null  float64\n",
      " 16  COBERTURA_BRUTA_PRIMARIA     14504 non-null  float64\n",
      " 17  COBERTURA_BRUTA_SECUNDARIA   14497 non-null  float64\n",
      " 18  COBERTURA_BRUTA_MEDIA        14458 non-null  float64\n",
      " 19  TAMAÑO_PROMEDIO_DE_GRUPO     7572 non-null   float64\n",
      " 20  SEDES_CONECTADAS_A_INTERNET  7768 non-null   float64\n",
      " 21  DESERCIÓN                    14443 non-null  float64\n",
      " 22  DESERCIÓN_TRANSICIÓN         13682 non-null  float64\n",
      " 23  DESERCIÓN_PRIMARIA           14343 non-null  float64\n",
      " 24  DESERCIÓN_SECUNDARIA         14315 non-null  float64\n",
      " 25  DESERCIÓN_MEDIA              13851 non-null  float64\n",
      " 26  APROBACIÓN                   14560 non-null  float64\n",
      " 27  APROBACIÓN_TRANSICIÓN        14492 non-null  float64\n",
      " 28  APROBACIÓN_PRIMARIA          14560 non-null  float64\n",
      " 29  APROBACIÓN_SECUNDARIA        14531 non-null  float64\n",
      " 30  APROBACIÓN_MEDIA             14484 non-null  float64\n",
      " 31  REPROBACIÓN                  14499 non-null  float64\n",
      " 32  REPROBACIÓN_TRANSICIÓN       14492 non-null  float64\n",
      " 33  REPROBACIÓN_PRIMARIA         14488 non-null  float64\n",
      " 34  REPROBACIÓN_SECUNDARIA       14479 non-null  float64\n",
      " 35  REPROBACIÓN_MEDIA            14440 non-null  float64\n",
      " 36  REPITENCIA                   14442 non-null  float64\n",
      " 37  REPITENCIA_TRANSICIÓN        14426 non-null  float64\n",
      " 38  REPITENCIA_PRIMARIA          14437 non-null  float64\n",
      " 39  REPITENCIA_SECUNDARIA        14433 non-null  float64\n",
      " 40  REPITENCIA_MEDIA             14446 non-null  float64\n",
      "dtypes: float64(34), int64(3), object(4)\n",
      "memory usage: 4.6+ MB\n",
      "\n",
      "\n",
      "Estadísticas descriptivas básicas del DataFrame:\n",
      "                 AÑO  CÓDIGO_MUNICIPIO MUNICIPIO  CÓDIGO_DEPARTAMENTO  \\\n",
      "count   14585.000000      14585.000000     14585         14585.000000   \n",
      "unique           NaN               NaN      1037                  NaN   \n",
      "top              NaN               NaN  La Unión                  NaN   \n",
      "freq             NaN               NaN        52                  NaN   \n",
      "mean     2016.999383      38693.103668       NaN            38.259376   \n",
      "std         3.741392      26554.514246       NaN            26.567883   \n",
      "min      2011.000000          0.000000       NaN             0.000000   \n",
      "25%      2014.000000      15676.000000       NaN            15.000000   \n",
      "50%      2017.000000      25839.000000       NaN            25.000000   \n",
      "75%      2020.000000      66572.000000       NaN            66.000000   \n",
      "max      2023.000000      99773.000000       NaN            99.000000   \n",
      "\n",
      "       DEPARTAMENTO    CÓDIGO_ETC           ETC POBLACIÓN_5_16  \\\n",
      "count         14585  14585.000000         14585          14579   \n",
      "unique           36           NaN           100           8527   \n",
      "top       Antioquia           NaN  Boyacá (ETC)           1823   \n",
      "freq           1625           NaN          1560             10   \n",
      "mean            NaN   3541.003356           NaN            NaN   \n",
      "std             NaN   1126.630087           NaN            NaN   \n",
      "min             NaN      0.000000           NaN            NaN   \n",
      "25%             NaN   3769.000000           NaN            NaN   \n",
      "50%             NaN   3785.000000           NaN            NaN   \n",
      "75%             NaN   3805.000000           NaN            NaN   \n",
      "max             NaN  10930.000000           NaN            NaN   \n",
      "\n",
      "        TASA_MATRICULACIÓN_5_16  COBERTURA_NETA  ...   REPROBACIÓN  \\\n",
      "count              14470.000000    14474.000000  ...  14499.000000   \n",
      "unique                      NaN             NaN  ...           NaN   \n",
      "top                         NaN             NaN  ...           NaN   \n",
      "freq                        NaN             NaN  ...           NaN   \n",
      "mean                  84.971929       85.553196  ...      4.757305   \n",
      "std                   18.589112       16.932351  ...      3.999522   \n",
      "min                    0.000000        0.000000  ...      0.000000   \n",
      "25%                   74.850000       76.890000  ...      0.920000   \n",
      "50%                   85.330000       86.400000  ...      4.520000   \n",
      "75%                   95.380000       94.540000  ...      7.420000   \n",
      "max                  279.030000      264.540000  ...     49.390000   \n",
      "\n",
      "        REPROBACIÓN_TRANSICIÓN  REPROBACIÓN_PRIMARIA  REPROBACIÓN_SECUNDARIA  \\\n",
      "count             14492.000000          14488.000000            14479.000000   \n",
      "unique                     NaN                   NaN                     NaN   \n",
      "top                        NaN                   NaN                     NaN   \n",
      "freq                       NaN                   NaN                     NaN   \n",
      "mean                  0.486811              3.884770                6.809006   \n",
      "std                   1.653298              3.802457                6.153460   \n",
      "min                   0.000000              0.000000                0.000000   \n",
      "25%                   0.000000              0.410000                0.720000   \n",
      "50%                   0.000000              3.330000                6.160000   \n",
      "75%                   0.220000              6.000000               10.830000   \n",
      "max                  52.710000             51.970000               76.970000   \n",
      "\n",
      "        REPROBACIÓN_MEDIA    REPITENCIA  REPITENCIA_TRANSICIÓN  \\\n",
      "count        14440.000000  14442.000000           14426.000000   \n",
      "unique                NaN           NaN                    NaN   \n",
      "top                   NaN           NaN                    NaN   \n",
      "freq                  NaN           NaN                    NaN   \n",
      "mean             4.130812      3.299480               0.943228   \n",
      "std              4.211766      3.369769               2.415125   \n",
      "min              0.000000      0.000000               0.000000   \n",
      "25%              0.670000      0.720000               0.000000   \n",
      "50%              3.100000      2.160000               0.000000   \n",
      "75%              6.400000      5.090000               0.930000   \n",
      "max             67.860000     37.470000              50.000000   \n",
      "\n",
      "        REPITENCIA_PRIMARIA  REPITENCIA_SECUNDARIA  REPITENCIA_MEDIA  \n",
      "count          14437.000000           14433.000000      14446.000000  \n",
      "unique                  NaN                    NaN               NaN  \n",
      "top                     NaN                    NaN               NaN  \n",
      "freq                    NaN                    NaN               NaN  \n",
      "mean               3.169504               4.326487          1.697890  \n",
      "std                3.644108               4.548738          2.284121  \n",
      "min                0.000000               0.000000          0.000000  \n",
      "25%                0.590000               0.730000          0.000000  \n",
      "50%                1.880000               2.740000          0.870000  \n",
      "75%                4.590000               6.820000          2.560000  \n",
      "max               50.760000              55.070000         36.450000  \n",
      "\n",
      "[11 rows x 41 columns] \n",
      "\n"
     ]
    }
   ],
   "source": [
    "# Resumen del DataFrame\n",
    "summarize_dataframe(df_work)"
   ]
  },
  {
   "cell_type": "markdown",
   "id": "af04665f",
   "metadata": {},
   "source": [
    "### 1.2.2 Análisis de valores nulos"
   ]
  },
  {
   "cell_type": "code",
   "execution_count": 4,
   "id": "d7dff7e3",
   "metadata": {},
   "outputs": [
    {
     "name": "stdout",
     "output_type": "stream",
     "text": [
      "Total de valores posibles: 597985\n",
      "Total de valores no nulos: 579275\n",
      "Porcentaje de completitud del DataFrame: 96.87%\n",
      "\n",
      "Porcentaje de valores nulos por columna (orden descendente):\n",
      "TAMAÑO_PROMEDIO_DE_GRUPO       48.083648\n",
      "SEDES_CONECTADAS_A_INTERNET    46.739801\n",
      "DESERCIÓN_TRANSICIÓN            6.191292\n",
      "DESERCIÓN_MEDIA                 5.032568\n",
      "DESERCIÓN_SECUNDARIA            1.851217\n",
      "DESERCIÓN_PRIMARIA              1.659239\n",
      "REPITENCIA_TRANSICIÓN           1.090161\n",
      "REPITENCIA_SECUNDARIA           1.042167\n",
      "REPITENCIA_PRIMARIA             1.014741\n",
      "REPROBACIÓN_MEDIA               0.994172\n",
      "REPITENCIA                      0.980459\n",
      "DESERCIÓN                       0.973603\n",
      "REPITENCIA_MEDIA                0.953034\n",
      "COBERTURA_BRUTA_MEDIA           0.870758\n",
      "TASA_MATRICULACIÓN_5_16         0.788481\n",
      "COBERTURA_NETA                  0.761056\n",
      "REPROBACIÓN_SECUNDARIA          0.726774\n",
      "APROBACIÓN_MEDIA                0.692492\n",
      "REPROBACIÓN_PRIMARIA            0.665067\n",
      "COBERTURA_BRUTA_TRANSICIÓN      0.665067\n",
      "COBERTURA_NETA_SECUNDARIA       0.644498\n",
      "APROBACIÓN_TRANSICIÓN           0.637641\n",
      "COBERTURA_NETA_MEDIA            0.637641\n",
      "REPROBACIÓN_TRANSICIÓN          0.637641\n",
      "COBERTURA_NETA_PRIMARIA         0.623929\n",
      "COBERTURA_BRUTA_SECUNDARIA      0.603360\n",
      "REPROBACIÓN                     0.589647\n",
      "COBERTURA_BRUTA_PRIMARIA        0.555365\n",
      "COBERTURA_BRUTA                 0.466232\n",
      "APROBACIÓN_SECUNDARIA           0.370243\n",
      "COBERTURA_NETA_TRANSICIÓN       0.356531\n",
      "APROBACIÓN                      0.171409\n",
      "APROBACIÓN_PRIMARIA             0.171409\n",
      "POBLACIÓN_5_16                  0.041138\n",
      "CÓDIGO_ETC                      0.000000\n",
      "CÓDIGO_DEPARTAMENTO             0.000000\n",
      "ETC                             0.000000\n",
      "MUNICIPIO                       0.000000\n",
      "CÓDIGO_MUNICIPIO                0.000000\n",
      "AÑO                             0.000000\n",
      "DEPARTAMENTO                    0.000000\n",
      "dtype: float64 \n",
      "\n"
     ]
    }
   ],
   "source": [
    "analyze_completeness(df_work)"
   ]
  },
  {
   "cell_type": "markdown",
   "id": "dc112e9b",
   "metadata": {},
   "source": [
    "Justificación para eliminar variables\n",
    "\n",
    "Las variables **TAMAÑO_PROMEDIO_DE_GRUPO** y **SEDES_CONECTADAS_A_INTERNET** presentan un alto porcentaje de datos faltantes, con un **48.08%** y **46.74%** de valores nulos, respectivamente. \n",
    "\n",
    "Este nivel de incompletitud limita la calidad y confiabilidad de los análisis, especialmente en modelos predictivos o análisis globales que requieren datos consistentes.\n",
    "\n",
    "Por esta razón, se decidió eliminar estas variables del análisis principal para garantizar resultados más robustos y representativos. \n",
    "\n",
    "Sin embargo, se podrán considerar análisis focalizados en subconjuntos donde estas variables estén completas para explorar su posible impacto en la calidad educativa."
   ]
  },
  {
   "cell_type": "markdown",
   "id": "3a2274a6",
   "metadata": {},
   "source": [
    "### 1.2.3 Análisis de columnas con Ceros"
   ]
  },
  {
   "cell_type": "code",
   "execution_count": 5,
   "id": "edcaa0d2",
   "metadata": {},
   "outputs": [
    {
     "name": "stdout",
     "output_type": "stream",
     "text": [
      "Número de columnas con al menos un valor en cero: 35\n",
      "\n",
      "Columnas con valores en cero y su cantidad:\n",
      "CÓDIGO_MUNICIPIO                   3\n",
      "CÓDIGO_DEPARTAMENTO                3\n",
      "CÓDIGO_ETC                         3\n",
      "TASA_MATRICULACIÓN_5_16            5\n",
      "COBERTURA_NETA                     8\n",
      "COBERTURA_NETA_TRANSICIÓN          9\n",
      "COBERTURA_NETA_PRIMARIA            8\n",
      "COBERTURA_NETA_SECUNDARIA         26\n",
      "COBERTURA_NETA_MEDIA              50\n",
      "COBERTURA_BRUTA                    8\n",
      "COBERTURA_BRUTA_TRANSICIÓN         8\n",
      "COBERTURA_BRUTA_PRIMARIA           8\n",
      "COBERTURA_BRUTA_SECUNDARIA        26\n",
      "COBERTURA_BRUTA_MEDIA             43\n",
      "SEDES_CONECTADAS_A_INTERNET      284\n",
      "DESERCIÓN                         55\n",
      "DESERCIÓN_TRANSICIÓN            1219\n",
      "DESERCIÓN_PRIMARIA               355\n",
      "DESERCIÓN_SECUNDARIA             195\n",
      "DESERCIÓN_MEDIA                  698\n",
      "APROBACIÓN                         3\n",
      "APROBACIÓN_TRANSICIÓN          10330\n",
      "APROBACIÓN_PRIMARIA                3\n",
      "APROBACIÓN_SECUNDARIA             14\n",
      "APROBACIÓN_MEDIA                  22\n",
      "REPROBACIÓN                     1625\n",
      "REPROBACIÓN_TRANSICIÓN         10330\n",
      "REPROBACIÓN_PRIMARIA            3018\n",
      "REPROBACIÓN_SECUNDARIA          2994\n",
      "REPROBACIÓN_MEDIA               2766\n",
      "REPITENCIA                       890\n",
      "REPITENCIA_TRANSICIÓN           7915\n",
      "REPITENCIA_PRIMARIA             1419\n",
      "REPITENCIA_SECUNDARIA           1608\n",
      "REPITENCIA_MEDIA                4354\n",
      "dtype: int64\n"
     ]
    }
   ],
   "source": [
    "columns_with_zeros = count_zeros_by_column(df_work)"
   ]
  },
  {
   "cell_type": "markdown",
   "id": "9068f732",
   "metadata": {},
   "source": [
    "### 1.2.4 Análisis de Columnas Duplicadas en valores"
   ]
  },
  {
   "cell_type": "code",
   "execution_count": 6,
   "id": "f6a47813",
   "metadata": {},
   "outputs": [
    {
     "name": "stdout",
     "output_type": "stream",
     "text": [
      "Las columnas 'APROBACIÓN_TRANSICIÓN' y 'REPROBACIÓN_TRANSICIÓN' tienen los mismos datos.\n"
     ]
    }
   ],
   "source": [
    "duplicates = find_duplicate_columns(df_work)"
   ]
  },
  {
   "cell_type": "markdown",
   "id": "6309f70a",
   "metadata": {},
   "source": [
    "# 2: Limpieza"
   ]
  },
  {
   "cell_type": "markdown",
   "id": "976e63d5",
   "metadata": {},
   "source": [
    "### 2.1 Limpia y estandariza los nombres de las columnas "
   ]
  },
  {
   "cell_type": "code",
   "execution_count": 7,
   "id": "d57baad6",
   "metadata": {},
   "outputs": [
    {
     "name": "stdout",
     "output_type": "stream",
     "text": [
      "Columnas estandarizadas ✅.\n"
     ]
    }
   ],
   "source": [
    "df_cleaned = clean_column_names(df_work)"
   ]
  },
  {
   "cell_type": "markdown",
   "id": "150e77a4",
   "metadata": {},
   "source": [
    "### 2.2 Eliminar columnas"
   ]
  },
  {
   "cell_type": "code",
   "execution_count": 8,
   "id": "f8ef86e2",
   "metadata": {},
   "outputs": [
    {
     "name": "stdout",
     "output_type": "stream",
     "text": [
      "Columnas Eliminadas. ✅\n"
     ]
    }
   ],
   "source": [
    "df_delete = delete_columns(df_cleaned, COLUMNS_TO_DELETE )"
   ]
  },
  {
   "cell_type": "markdown",
   "id": "03e2eddc",
   "metadata": {},
   "source": [
    "### 2.3 Imputa ceros y valores nulos en columnas numéricas"
   ]
  },
  {
   "cell_type": "code",
   "execution_count": 9,
   "id": "61cd64cd",
   "metadata": {},
   "outputs": [
    {
     "name": "stdout",
     "output_type": "stream",
     "text": [
      "✅ Imputación completa.\n",
      "Número de ceros por columna después de imputar:  0 \n",
      "\n",
      "Número de nulos por columna después de imputar:  0\n"
     ]
    }
   ],
   "source": [
    "df_imp = handle_missing_values(df_delete)"
   ]
  },
  {
   "cell_type": "markdown",
   "id": "3e8ded88",
   "metadata": {},
   "source": [
    "### 2.4 Imputar valores en columnas categóricas (texto)"
   ]
  },
  {
   "cell_type": "code",
   "execution_count": 10,
   "id": "1b091f5b",
   "metadata": {},
   "outputs": [
    {
     "name": "stdout",
     "output_type": "stream",
     "text": [
      "\n",
      " Valores nulos en columnas categóricas:\n",
      "poblacion_5_16    6 \n",
      "\n",
      "✅ Columna 'poblacion_5_16' convertida a numérico\n",
      "   - Valores nulos imputados: 6 → 0\n",
      "   - Mediana usada para imputación: 2640.00\n",
      "   - Tipo de dato actual: float64\n",
      "\n"
     ]
    }
   ],
   "source": [
    "df_procesado = normalize_column_names(\n",
    "    df_imp,\n",
    "    columns_to_convert_to_numeric=COLUMNS_TO_CONVERT_TO_NUMERIC,\n",
    "    imputar=True\n",
    ")"
   ]
  },
  {
   "cell_type": "markdown",
   "id": "b3ffeac5",
   "metadata": {},
   "source": [
    "### 2.5 Eliminar filas especificas"
   ]
  },
  {
   "cell_type": "code",
   "execution_count": 11,
   "id": "c447da5d",
   "metadata": {},
   "outputs": [
    {
     "name": "stdout",
     "output_type": "stream",
     "text": [
      "✅ Se eliminaron 3 filas donde 'municipio' == NACIONAL\n"
     ]
    }
   ],
   "source": [
    "df_processed = filter_remove_rows(\n",
    "    df_procesado,\n",
    "    FILTER_COLUMN,\n",
    "    FILTER_VALUE    \n",
    ")"
   ]
  },
  {
   "cell_type": "markdown",
   "id": "5bbad686",
   "metadata": {},
   "source": [
    "### 2.6 Guardar el DataFrame limpio para uso futuro"
   ]
  },
  {
   "cell_type": "code",
   "execution_count": 12,
   "id": "6d7b97b8",
   "metadata": {},
   "outputs": [
    {
     "name": "stdout",
     "output_type": "stream",
     "text": [
      "Datos procesados guardados exitosamente en: c:\\Users\\LENOVO\\OneDrive\\Documentos\\python class\\Dathon_Academic_MEN\\data\\processed\\datos_educacion_limpios.csv\n"
     ]
    }
   ],
   "source": [
    "save_processed_data(df_processed, PROCESSED_DATA_PATH)"
   ]
  }
 ],
 "metadata": {
  "kernelspec": {
   "display_name": "Python 3",
   "language": "python",
   "name": "python3"
  },
  "language_info": {
   "codemirror_mode": {
    "name": "ipython",
    "version": 3
   },
   "file_extension": ".py",
   "mimetype": "text/x-python",
   "name": "python",
   "nbconvert_exporter": "python",
   "pygments_lexer": "ipython3",
   "version": "3.13.2"
  }
 },
 "nbformat": 4,
 "nbformat_minor": 5
}
